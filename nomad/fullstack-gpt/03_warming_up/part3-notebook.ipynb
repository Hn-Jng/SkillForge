{
 "cells": [
  {
   "cell_type": "code",
   "execution_count": 45,
   "metadata": {},
   "outputs": [],
   "source": [
    "from langchain.chat_models import ChatOpenAI\n",
    "'''\n",
    ".env에 있는 'OPENAI_API_KEY' variable을 자동으로 불러와 모델 객체를 생성할 때 사용한다.\n",
    "만약 .env 파일명을 다르게 작성하거나 'OPENAI_API_KEY' 가 아닌 다른 variable name을 사용했다면 오류 발생.\n",
    "위의 방법 말고도 \"OpenAI(openai_api_key = \"{발급한 API_KEY}\")\"와 같이 사용도 가능하다.\n",
    "'''\n",
    "\n",
    "chat = ChatOpenAI(temperature=0.1, \n",
    "                #   model= \"gpt-4o\",\n",
    "                  )"
   ]
  },
  {
   "cell_type": "code",
   "execution_count": 6,
   "metadata": {},
   "outputs": [
    {
     "data": {
      "text/plain": [
       "AIMessage(content='Ciao! La distanza tra il Messico e la Thailandia è di circa 16.000 chilometri. Mi chiamo Paolo, sono un esperto di geografia. Posso aiutarti con altre domande?')"
      ]
     },
     "execution_count": 6,
     "metadata": {},
     "output_type": "execute_result"
    }
   ],
   "source": [
    "'''predict_messages 메서드를 사용하여 message들로 이루어진 List를 전달하는 방식'''\n",
    "from langchain.schema import HumanMessage, AIMessage, SystemMessage\n",
    "\n",
    "# SystemMessage : 우리가 LLM에 설정들을 제공하기 위한 Message(e.g, 역할 부여, 작업 전제 등)\n",
    "# HumanMessage : 사용자가 AI에게 보내는 Message\n",
    "# AIMessage : AI에 의해 보내지는 Message\n",
    "\n",
    "messages = [\n",
    "    SystemMessage(content=\"You are a geography expert. And you only reply in Italian\",),\n",
    "    AIMessage(content=\"Ciao, mi chiamo Paolo!\",),\n",
    "    HumanMessage(content=\"What is the distance between Mexico and Thailand. Also, what is your name?\",),\n",
    "]\n",
    "\n",
    "chat.predict_messages(messages)"
   ]
  },
  {
   "cell_type": "code",
   "execution_count": 11,
   "metadata": {},
   "outputs": [
    {
     "data": {
      "text/plain": [
       "'The distance between Mexico and Thailand is approximately 16,000 kilometers (9,942 miles) when measured in a straight line.'"
      ]
     },
     "execution_count": 11,
     "metadata": {},
     "output_type": "execute_result"
    }
   ],
   "source": [
    "'''\n",
    "PromptTemplate은 String 으로\n",
    "ChatPromptTemplate은 template message 로부터 만든다.'''\n",
    "from langchain.prompts import PromptTemplate\n",
    "\n",
    "template = PromptTemplate.from_template(\"What is the distance between {country_a} and {country_b}?\",)\n",
    "\n",
    "prompt = template.format(country_a = \"Mexico\", country_b = \"Thailand\")\n",
    "\n",
    "chat.predict(prompt)"
   ]
  },
  {
   "cell_type": "code",
   "execution_count": 14,
   "metadata": {},
   "outputs": [
    {
     "data": {
      "text/plain": [
       "AIMessage(content='Hello! The distance between South Korea (한국) and Australia (호주) is approximately 7,800 kilometers. My name is Hanni. How can I assist you today?')"
      ]
     },
     "execution_count": 14,
     "metadata": {},
     "output_type": "execute_result"
    }
   ],
   "source": [
    "from langchain.prompts import ChatPromptTemplate\n",
    "\n",
    "template = ChatPromptTemplate.from_messages(\n",
    "    [\n",
    "        (\"system\", \"You are a geography expert. And you only reply in {language}\"),\n",
    "        (\"ai\", \"Ciao, mi chiamo {name}!\"),\n",
    "        (\"human\", \"What is the distance between {country_a} and {country_b}. Also, what is your name?\"),\n",
    "    ]\n",
    ")\n",
    "\n",
    "prompt = template.format_messages(\n",
    "    language= \"English\", \n",
    "    name= \"Hanni\", \n",
    "    country_a=\"한국\", \n",
    "    country_b=\"호주\",\n",
    "    )\n",
    "\n",
    "chat.predict_messages(prompt)"
   ]
  },
  {
   "cell_type": "code",
   "execution_count": 15,
   "metadata": {},
   "outputs": [
    {
     "data": {
      "text/plain": [
       "['Hello', 'how', 'are', 'you']"
      ]
     },
     "execution_count": 15,
     "metadata": {},
     "output_type": "execute_result"
    }
   ],
   "source": [
    "from langchain.schema import BaseOutputParser\n",
    "\n",
    "class CommaOutputParser(BaseOutputParser):\n",
    "    def parse(slef, text):\n",
    "        items = text.strip().split(\",\")\n",
    "        return list(map(str.strip, items))\n",
    "    \n",
    "p = CommaOutputParser()\n",
    "\n",
    "p.parse(\"Hello, how, are, you\")"
   ]
  },
  {
   "cell_type": "code",
   "execution_count": 28,
   "metadata": {},
   "outputs": [
    {
     "data": {
      "text/plain": [
       "['Red',\n",
       " 'blue',\n",
       " 'green',\n",
       " 'yellow',\n",
       " 'orange',\n",
       " 'purple',\n",
       " 'pink',\n",
       " 'black',\n",
       " 'white',\n",
       " 'brown']"
      ]
     },
     "execution_count": 28,
     "metadata": {},
     "output_type": "execute_result"
    }
   ],
   "source": [
    "template = ChatPromptTemplate.from_messages(\n",
    "    [\n",
    "        (\"system\", \n",
    "         \"You are a list generating machine. \\\n",
    "             Everything you are asked will be answered with a comma separated list of max {max_items}. Do Not reply with anything else\"),\n",
    "        (\"human\", \n",
    "         \"{question}\"),\n",
    "    ]\n",
    ")\n",
    "\n",
    "prompt = template.format_messages(\n",
    "    max_items = 10,\n",
    "    question = \"What are the colors?\",\n",
    ")\n",
    "\n",
    "result = chat.predict_messages(prompt)\n",
    "\n",
    "p = CommaOutputParser()\n",
    "\n",
    "p.parse(result.content)\n"
   ]
  },
  {
   "cell_type": "code",
   "execution_count": 46,
   "metadata": {},
   "outputs": [
    {
     "data": {
      "text/plain": [
       "['Sarah', 'Michael', 'Emily', 'David', 'Jessica', 'Chris']"
      ]
     },
     "execution_count": 46,
     "metadata": {},
     "output_type": "execute_result"
    }
   ],
   "source": [
    "'''\n",
    "- chain을 활용해 위에서 작성한 코드를 간결하게 구현 가능하다.\n",
    "(format_messages, predict_message, CommaOutputParser 인스턴스 정의 및 parse 메서드 실행)\n",
    "- 입력하는 element 들을 순서대로 실행한다. \n",
    "- chain 간의 결합도 가능하다.\n",
    "'''\n",
    "\n",
    "chain = template | chat | CommaOutputParser()\n",
    "\n",
    "chain.invoke({\n",
    "    \"max_items\" : 6,\n",
    "    \"question\" : \"Who are the member of NewJeans?\"\n",
    "})"
   ]
  },
  {
   "cell_type": "markdown",
   "metadata": {},
   "source": [
    "### 복수의 Chain 연결"
   ]
  },
  {
   "cell_type": "code",
   "execution_count": 4,
   "metadata": {},
   "outputs": [
    {
     "name": "stdout",
     "output_type": "stream",
     "text": [
      "Great choice! Here is a simple recipe for Chicken Tikka Masala, a popular Indian dish:\n",
      "\n",
      "Ingredients:\n",
      "- 1 lb boneless, skinless chicken breasts, cut into bite-sized pieces\n",
      "- 1 cup plain yogurt\n",
      "- 2 tablespoons lemon juice\n",
      "- 2 teaspoons ground cumin\n",
      "- 2 teaspoons paprika\n",
      "- 1 teaspoon ground cinnamon\n",
      "- 1 teaspoon ground turmeric\n",
      "- 1 teaspoon ground coriander\n",
      "- 1 teaspoon cayenne pepper (adjust to taste)\n",
      "- Salt and pepper to taste\n",
      "- 2 tablespoons vegetable oil\n",
      "- 1 onion, finely chopped\n",
      "- 3 cloves garlic, minced\n",
      "- 1 tablespoon grated ginger\n",
      "- 1 can (14 oz) crushed tomatoes\n",
      "- 1 cup heavy cream\n",
      "- Fresh cilantro, chopped (for garnish)\n",
      "\n",
      "Instructions:\n",
      "1. In a bowl, mix together the yogurt, lemon juice, cumin, paprika, cinnamon, turmeric, coriander, cayenne pepper, salt, and pepper. Add the chicken pieces and coat them well with the marinade. Cover and refrigerate for at least 1 hour, or overnight for best results.\n",
      "\n",
      "2. Preheat the oven to 400°F (200°C). Place the marinated chicken pieces on a baking sheet lined with parchment paper. Bake for 20-25 minutes, or until the chicken is cooked through.\n",
      "\n",
      "3. In a large skillet, heat the vegetable oil over medium heat. Add the chopped onion and cook until softened, about 5 minutes. Add the garlic and ginger, and cook for another minute.\n",
      "\n",
      "4. Stir in the crushed tomatoes and simmer for 10 minutes. Add the baked chicken pieces to the skillet and stir to combine.\n",
      "\n",
      "5. Pour in the heavy cream and simmer for another 10 minutes, stirring occasionally. Adjust seasoning with salt and pepper if needed.\n",
      "\n",
      "6. Serve the Chicken Tikka Masala over steamed rice, garnished with chopped cilantro. Enjoy your delicious homemade Indian meal!\n",
      "\n",
      "Feel free to adjust the spice levels to suit your taste preferences. Enjoy your culinary adventure with this flavorful Indian dish!As a vegetarian chef, I can offer you a delicious vegetarian alternative to Chicken Tikka Masala using paneer instead of chicken. Paneer is a fresh cheese common in Indian cuisine and is a great substitute for meat in many dishes. Here's how you can modify the recipe:\n",
      "\n",
      "Ingredients:\n",
      "- 1 lb paneer, cut into bite-sized pieces\n",
      "- 1 cup plain yogurt\n",
      "- 2 tablespoons lemon juice\n",
      "- 2 teaspoons ground cumin\n",
      "- 2 teaspoons paprika\n",
      "- 1 teaspoon ground cinnamon\n",
      "- 1 teaspoon ground turmeric\n",
      "- 1 teaspoon ground coriander\n",
      "- 1 teaspoon cayenne pepper (adjust to taste)\n",
      "- Salt and pepper to taste\n",
      "- 2 tablespoons vegetable oil\n",
      "- 1 onion, finely chopped\n",
      "- 3 cloves garlic, minced\n",
      "- 1 tablespoon grated ginger\n",
      "- 1 can (14 oz) crushed tomatoes\n",
      "- 1 cup heavy cream\n",
      "- Fresh cilantro, chopped (for garnish)\n",
      "\n",
      "Instructions:\n",
      "1. Follow the same marinating process as the original recipe, substituting the chicken with paneer. Marinate the paneer in the yogurt and spice mixture for at least 1 hour or overnight.\n",
      "2. Instead of baking the paneer, you can lightly pan-fry or grill the marinated paneer until golden brown.\n",
      "3. Proceed with the recipe as directed, starting with sautéing the onion, garlic, and ginger in vegetable oil.\n",
      "4. Add the crushed tomatoes and simmer for 10 minutes before adding the cooked paneer pieces to the skillet.\n",
      "5. Pour in the heavy cream and simmer for another 10 minutes to allow the flavors to meld together.\n",
      "6. Adjust the seasoning with salt and pepper if needed and serve the Paneer Tikka Masala over steamed rice, garnished with chopped cilantro.\n",
      "\n",
      "By making this simple swap of paneer for chicken, you can enjoy a flavorful and satisfying vegetarian version of this classic Indian dish. Enjoy your culinary adventure with this delicious Paneer Tikka Masala!"
     ]
    },
    {
     "data": {
      "text/plain": [
       "AIMessageChunk(content=\"As a vegetarian chef, I can offer you a delicious vegetarian alternative to Chicken Tikka Masala using paneer instead of chicken. Paneer is a fresh cheese common in Indian cuisine and is a great substitute for meat in many dishes. Here's how you can modify the recipe:\\n\\nIngredients:\\n- 1 lb paneer, cut into bite-sized pieces\\n- 1 cup plain yogurt\\n- 2 tablespoons lemon juice\\n- 2 teaspoons ground cumin\\n- 2 teaspoons paprika\\n- 1 teaspoon ground cinnamon\\n- 1 teaspoon ground turmeric\\n- 1 teaspoon ground coriander\\n- 1 teaspoon cayenne pepper (adjust to taste)\\n- Salt and pepper to taste\\n- 2 tablespoons vegetable oil\\n- 1 onion, finely chopped\\n- 3 cloves garlic, minced\\n- 1 tablespoon grated ginger\\n- 1 can (14 oz) crushed tomatoes\\n- 1 cup heavy cream\\n- Fresh cilantro, chopped (for garnish)\\n\\nInstructions:\\n1. Follow the same marinating process as the original recipe, substituting the chicken with paneer. Marinate the paneer in the yogurt and spice mixture for at least 1 hour or overnight.\\n2. Instead of baking the paneer, you can lightly pan-fry or grill the marinated paneer until golden brown.\\n3. Proceed with the recipe as directed, starting with sautéing the onion, garlic, and ginger in vegetable oil.\\n4. Add the crushed tomatoes and simmer for 10 minutes before adding the cooked paneer pieces to the skillet.\\n5. Pour in the heavy cream and simmer for another 10 minutes to allow the flavors to meld together.\\n6. Adjust the seasoning with salt and pepper if needed and serve the Paneer Tikka Masala over steamed rice, garnished with chopped cilantro.\\n\\nBy making this simple swap of paneer for chicken, you can enjoy a flavorful and satisfying vegetarian version of this classic Indian dish. Enjoy your culinary adventure with this delicious Paneer Tikka Masala!\")"
      ]
     },
     "execution_count": 4,
     "metadata": {},
     "output_type": "execute_result"
    }
   ],
   "source": [
    "from langchain.chat_models import ChatOpenAI\n",
    "from langchain.prompts import ChatPromptTemplate\n",
    "from langchain.callbacks import StreamingStdOutCallbackHandler\n",
    "\n",
    "chat = ChatOpenAI(\n",
    "    temperature=0.1, \n",
    "    streaming=True, # LLM의 응답(response)이 생성되는대로 볼 수 있게 해준다.\n",
    "    callbacks=[StreamingStdOutCallbackHandler()] # 볼 수 있는 문자가 생길 때 마다 print\n",
    "    )\n",
    "\n",
    "chef_template = ChatPromptTemplate.from_messages([\n",
    "    (\"system\", \"You are world-class international chef. You create easy to follow recipies for any type of cuisine with easy to find\"),\n",
    "    (\"human\", \"I want to cook {cuisine} food.\"),\n",
    "])\n",
    "\n",
    "chef_chain = chef_template | chat\n",
    "\n",
    "veg_chef_template = ChatPromptTemplate.from_messages([\n",
    "    (\"system\", \"You are a vegetarian chef specialized on making traditional recipies vegetarian. You find alternative ingredients and explain their preparation. You don't radically modify the recipe. If there is no alternative for a food just say you don't know how to replace it.\"),\n",
    "    (\"human\", \"{recipe}\"),\n",
    "])\n",
    "\n",
    "veg_chain = veg_chef_template | chat\n",
    "\n",
    "final_chain = {\"recipe\": chef_chain} | veg_chain\n",
    "\n",
    "final_chain.invoke({\"cuisine\": \"Indian\"})\n"
   ]
  },
  {
   "cell_type": "code",
   "execution_count": null,
   "metadata": {},
   "outputs": [],
   "source": [
    "  "
   ]
  }
 ],
 "metadata": {
  "kernelspec": {
   "display_name": "langchain-learn",
   "language": "python",
   "name": "python3"
  },
  "language_info": {
   "codemirror_mode": {
    "name": "ipython",
    "version": 3
   },
   "file_extension": ".py",
   "mimetype": "text/x-python",
   "name": "python",
   "nbconvert_exporter": "python",
   "pygments_lexer": "ipython3",
   "version": "3.11.9"
  }
 },
 "nbformat": 4,
 "nbformat_minor": 2
}
