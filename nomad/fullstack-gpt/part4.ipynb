{
 "cells": [
  {
   "cell_type": "code",
   "execution_count": 3,
   "metadata": {},
   "outputs": [
    {
     "data": {
      "text/plain": [
       "'아래 코드는 의미상 위에 작성한 코드와 같다. 편의상 위의 코드 작성법 사용'"
      ]
     },
     "execution_count": 3,
     "metadata": {},
     "output_type": "execute_result"
    }
   ],
   "source": [
    "from langchain.chat_models import ChatOpenAI\n",
    "from langchain.prompts import PromptTemplate\n",
    "from langchain.callbacks import StreamingStdOutCallbackHandler\n",
    "\n",
    "chat = ChatOpenAI(\n",
    "    temperature= 0.1,\n",
    "    streaming= True,\n",
    "    callbacks= [\n",
    "        StreamingStdOutCallbackHandler()\n",
    "    ]\n",
    ")\n",
    "\n",
    "# t = PromptTemplate.from_template(\"What is the capital of {country}\")\n",
    "\n",
    "'''아래 코드는 의미상 위에 작성한 코드와 같다. 편의상 위의 코드 작성법 사용'''\n",
    "\n",
    "# t = PromptTemplate(\n",
    "#     template = \"What is the capital of {country}\",\n",
    "#     input_variables= [\"country\"]\n",
    "# )"
   ]
  },
  {
   "cell_type": "code",
   "execution_count": 8,
   "metadata": {},
   "outputs": [
    {
     "name": "stdout",
     "output_type": "stream",
     "text": [
      "AI: \n",
      "        Here is what I know:\n",
      "        Capital: Seoul\n",
      "        Language: Korean\n",
      "        Food: Kimchi and Bibimbap\n",
      "        Currency: South Korean Won"
     ]
    },
    {
     "data": {
      "text/plain": [
       "AIMessageChunk(content='AI: \\n        Here is what I know:\\n        Capital: Seoul\\n        Language: Korean\\n        Food: Kimchi and Bibimbap\\n        Currency: South Korean Won')"
      ]
     },
     "execution_count": 8,
     "metadata": {},
     "output_type": "execute_result"
    }
   ],
   "source": [
    "'''FewShotPromptTemplate - 예제를 LLM 에게 제공함으로써 답변 품질을 높인다.\n",
    "예를들어 고객센터 챗복 구축 시 데이터베이스 등에 대화 기록 등 사용 가능한 데이터가 있는 경우 prompt를 작성하는 것보다 효과적일 수 있다.'''\n",
    "from langchain.prompts.few_shot import FewShotPromptTemplate \n",
    "\n",
    "\n",
    "examples = [\n",
    "    {\n",
    "        \"question\": \"What do you know about France?\",\n",
    "        \"answer\": \"\"\"\n",
    "        Here is what I know:\n",
    "        Capital: Paris\n",
    "        Language: French\n",
    "        Food: Wine and Cheese\n",
    "        Currency: Euro\n",
    "        \"\"\"\n",
    "    },\n",
    "        {\n",
    "        \"question\": \"What do you know about Italy?\",\n",
    "        \"answer\": \"\"\"\n",
    "        I know this:\n",
    "        Capital: Rome\n",
    "        Language: Italian\n",
    "        Food: Pizza and Pasta\n",
    "        Currency: Euro\n",
    "        \"\"\"\n",
    "    },\n",
    "            {\n",
    "        \"question\": \"What do you know about Greece?\",\n",
    "        \"answer\": \"\"\"\n",
    "        I know this:\n",
    "        Capital: Athenes\n",
    "        Language: Greek\n",
    "        Food: Souvlaki and Feta Cheese\n",
    "        Currency: Euro\n",
    "        \"\"\"\n",
    "    },\n",
    "]\n",
    "\n",
    "example_template = \"\"\"\n",
    "    Human: {question}\n",
    "    AI: {answer}\n",
    "\"\"\"\n",
    "\n",
    "example_prompt = PromptTemplate.from_template(example_template)\n",
    "\n",
    "prompt = FewShotPromptTemplate(\n",
    "    example_prompt= example_prompt, # 어떻게 전달한 예제들을 형식화 할지 알려줌\n",
    "    examples= examples,\n",
    "    suffix= \"Human: What do you know about {country}?\", # example 맨 마지막에 오는 질문\n",
    "    input_variables=[\"country\"], # 템플릿에서 사용할 입력 변수. 유효성 검사(validation)에서 사용\n",
    ")\n",
    "# prompt.format(country=\"Korea\")\n",
    "\n",
    "chain = prompt | chat\n",
    "chain.invoke({\"country\": \"Korea\"})\n",
    "\n"
   ]
  },
  {
   "cell_type": "code",
   "execution_count": 23,
   "metadata": {},
   "outputs": [
    {
     "name": "stdout",
     "output_type": "stream",
     "text": [
      "I know this:\n",
      "        South Korea:\n",
      "        Capital: Seoul\n",
      "        Language: Korean\n",
      "        Food: Kimchi and Bibimbap\n",
      "        Currency: South Korean Won\n",
      "\n",
      "        North Korea:\n",
      "        Capital: Pyongyang\n",
      "        Language: Korean\n",
      "        Food: Kimchi and Rice\n",
      "        Currency: North Korean Won"
     ]
    },
    {
     "data": {
      "text/plain": [
       "AIMessageChunk(content='I know this:\\n        South Korea:\\n        Capital: Seoul\\n        Language: Korean\\n        Food: Kimchi and Bibimbap\\n        Currency: South Korean Won\\n\\n        North Korea:\\n        Capital: Pyongyang\\n        Language: Korean\\n        Food: Kimchi and Rice\\n        Currency: North Korean Won')"
      ]
     },
     "execution_count": 23,
     "metadata": {},
     "output_type": "execute_result"
    }
   ],
   "source": [
    "'''FewShotChatMessagePromptTemplate'''\n",
    "\n",
    "from langchain.prompts.few_shot import FewShotChatMessagePromptTemplate\n",
    "from langchain.prompts import ChatPromptTemplate\n",
    "\n",
    "examples = [\n",
    "    {\n",
    "        \"country\": \"France\",\n",
    "        \"answer\": \"\"\"\n",
    "        Here is what I know:\n",
    "        Capital: Paris\n",
    "        Language: French\n",
    "        Food: Wine and Cheese\n",
    "        Currency: Euro\n",
    "        \"\"\"\n",
    "    },\n",
    "        {\n",
    "        \"country\": \"Italy\",\n",
    "        \"answer\": \"\"\"\n",
    "        I know this:\n",
    "        Capital: Rome\n",
    "        Language: Italian\n",
    "        Food: Pizza and Pasta\n",
    "        Currency: Euro\n",
    "        \"\"\"\n",
    "    },\n",
    "            {\n",
    "        \"country\": \"Greece\",\n",
    "        \"answer\": \"\"\"\n",
    "        I know this:\n",
    "        Capital: Athenes\n",
    "        Language: Greek\n",
    "        Food: Souvlaki and Feta Cheese\n",
    "        Currency: Euro\n",
    "        \"\"\"\n",
    "    },\n",
    "]\n",
    "\n",
    "example_prompt = ChatPromptTemplate.from_messages([\n",
    "    (\"human\", \"What do you know about {country}?\"),\n",
    "    (\"ai\", \"{answer}\")\n",
    "    \n",
    "])\n",
    "\n",
    "example_prompt = FewShotChatMessagePromptTemplate(\n",
    "    examples= examples,\n",
    "    example_prompt= example_prompt, # 어떻게 전달한 예제들을 형식화 할지 알려줌\n",
    ")\n",
    "\n",
    "final_prompt = ChatPromptTemplate.from_messages([\n",
    "    (\"system\", \"Your are a geography expert\"),\n",
    "    example_prompt,\n",
    "    (\"human\", \"What do you know about {country}?\"),\n",
    "])\n",
    "\n",
    "chain = final_prompt | chat\n",
    "\n",
    "chain.invoke({\"country\": \"Korea\"})"
   ]
  },
  {
   "cell_type": "code",
   "execution_count": 14,
   "metadata": {},
   "outputs": [
    {
     "data": {
      "text/plain": [
       "'Human: What do you know about Greece?\\nAI: \\n        I know this:\\n        Capital: Athenes\\n        Language: Greek\\n        Food: Souvlaki and Feta Cheese\\n        Currency: Euro\\n        \\n\\nHuman: What do you know about Korea?'"
      ]
     },
     "execution_count": 14,
     "metadata": {},
     "output_type": "execute_result"
    }
   ],
   "source": [
    "'''example selector 사용 예제'''\n",
    "\n",
    "from typing import Any, Dict, List\n",
    "from langchain.prompts.few_shot import FewShotPromptTemplate\n",
    "from langchain.prompts.example_selector import LengthBasedExampleSelector\n",
    "from langchain.prompts.example_selector.base import BaseExampleSelector\n",
    "\n",
    "examples = [\n",
    "    {\n",
    "        \"question\": \"What do you know about France?\",\n",
    "        \"answer\": \"\"\"\n",
    "        Here is what I know:\n",
    "        Capital: Paris\n",
    "        Language: French\n",
    "        Food: Wine and Cheese\n",
    "        Currency: Euro\n",
    "        \"\"\"\n",
    "    },\n",
    "        {\n",
    "        \"question\": \"What do you know about Italy?\",\n",
    "        \"answer\": \"\"\"\n",
    "        I know this:\n",
    "        Capital: Rome\n",
    "        Language: Italian\n",
    "        Food: Pizza and Pasta\n",
    "        Currency: Euro\n",
    "        \"\"\"\n",
    "    },\n",
    "            {\n",
    "        \"question\": \"What do you know about Greece?\",\n",
    "        \"answer\": \"\"\"\n",
    "        I know this:\n",
    "        Capital: Athenes\n",
    "        Language: Greek\n",
    "        Food: Souvlaki and Feta Cheese\n",
    "        Currency: Euro\n",
    "        \"\"\"\n",
    "    },\n",
    "]\n",
    "class RandomExampleSelector(BaseExampleSelector):\n",
    "    def __init__(self, examples):\n",
    "        self.examples = examples\n",
    "        \n",
    "    def add_example(self, example):\n",
    "        return self.examples.append(example)\n",
    "    \n",
    "    def select_examples(self, input_variables):\n",
    "        from random import choice\n",
    "        \n",
    "        return [choice(self.examples)]\n",
    "    \n",
    "\n",
    "example_prompt = PromptTemplate.from_template(\"Human: {question}\\nAI: {answer}\")\n",
    "\n",
    "example_selector = RandomExampleSelector(\n",
    "    examples= examples, \n",
    "    # example_prompt= example_prompt,\n",
    "    # max_length= 180,\n",
    ")\n",
    "\n",
    "# example_selector = LengthBasedExampleSelector(\n",
    "#     examples= examples, \n",
    "#     example_prompt= example_prompt,\n",
    "#     max_length= 180,\n",
    "# )\n",
    "\n",
    "prompt = FewShotPromptTemplate(\n",
    "    example_prompt= example_prompt, # 어떻게 전달한 예제들을 형식화 할지 알려줌\n",
    "    example_selector= example_selector,\n",
    "    suffix= \"Human: What do you know about {country}?\", # example 맨 마지막에 오는 질문\n",
    "    input_variables=[\"country\"], # 템플릿에서 사용할 입력 변수. 유효성 검사(validation)에서 사용\n",
    ")\n",
    "prompt.format(country=\"Korea\")\n",
    "\n"
   ]
  },
  {
   "cell_type": "code",
   "execution_count": 5,
   "metadata": {},
   "outputs": [
    {
     "data": {
      "text/plain": [
       "'What is the capital of Korea'"
      ]
     },
     "execution_count": 5,
     "metadata": {},
     "output_type": "execute_result"
    }
   ],
   "source": [
    "# Prompt를 다른 파일로 만들어두고 불러오는 방법\n",
    "from langchain.chat_models import ChatOpenAI\n",
    "from langchain.callbacks import StreamingStdOutCallbackHandler\n",
    "from langchain.prompts import load_prompt\n",
    "\n",
    "prompt = load_prompt(\"./prompt.yaml\")\n",
    "\n",
    "chat = ChatOpenAI(\n",
    "    temperature= 0.1,\n",
    "    streaming= True,\n",
    "    callbacks= [\n",
    "        StreamingStdOutCallbackHandler()\n",
    "    ]\n",
    ")\n",
    "\n",
    "prompt.format(country=\"Korea\")"
   ]
  }
 ],
 "metadata": {
  "kernelspec": {
   "display_name": "langchain-learn",
   "language": "python",
   "name": "python3"
  },
  "language_info": {
   "codemirror_mode": {
    "name": "ipython",
    "version": 3
   },
   "file_extension": ".py",
   "mimetype": "text/x-python",
   "name": "python",
   "nbconvert_exporter": "python",
   "pygments_lexer": "ipython3",
   "version": "3.11.9"
  }
 },
 "nbformat": 4,
 "nbformat_minor": 2
}
