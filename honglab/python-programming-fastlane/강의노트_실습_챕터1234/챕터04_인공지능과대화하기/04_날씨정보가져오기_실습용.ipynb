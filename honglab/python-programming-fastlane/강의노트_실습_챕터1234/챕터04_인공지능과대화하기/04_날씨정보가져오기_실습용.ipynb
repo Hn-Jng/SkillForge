{
 "cells": [
  {
   "cell_type": "markdown",
   "metadata": {},
   "source": [
    "___\n",
    "<a href='https://cafe.naver.com/jmhonglab'><p style=\"text-align:center;\"><img src='https://lh3.googleusercontent.com/lY3ySXooSmwsq5r-mRi7uiypbo0Vez6pmNoQxMFhl9fmZJkRHu5lO2vo7se_0YOzgmDyJif9fi4_z0o3ZFdwd8NVSWG6Ea80uWaf3pOHpR4GHGDV7kaFeuHR3yAjIJjDgfXMxsvw=w2400'  class=\"center\" width=\"50%\" height=\"50%\"/></p></a>\n",
    "___\n",
    "<center><em>Content Copyright by HongLab, Inc.</em></center>"
   ]
  },
  {
   "cell_type": "markdown",
   "metadata": {},
   "source": [
    "# 인터넷으로 날씨 정보 가져오기\n"
   ]
  },
  {
   "cell_type": "markdown",
   "metadata": {},
   "source": [
    "### [OpenWeather](https://openweathermap.org/guide)로부터 현재 날씨 정보 받아오기\n",
    "\n",
    "[OpenWeather](https://openweathermap.org/guide)에 접속하신 후에 계정을 만들어서 key를 발급받아야 합니다.\n",
    "\n",
    "requests 모듈을 이용해서 파이썬으로 서버에 HTTP 형식으로 데이터를 요청할 수 있습니다.\n",
    "\n",
    "날씨 정보를 [JSON 형식](https://docs.python.org/3/library/json.html)으로 받게 되는데 사전(dict)와 비슷하게 사용할 수 있습니다."
   ]
  },
  {
   "cell_type": "code",
   "execution_count": 11,
   "metadata": {},
   "outputs": [
    {
     "name": "stdout",
     "output_type": "stream",
     "text": [
      "http://api.openweathermap.org/data/2.5/weather?appid=b788bf877940f2c0f95020a0dc2fbaf9&q=osaka&lang=en\n",
      "<Response [200]>\n",
      "{'coord': {'lon': 135.5022, 'lat': 34.6937}, 'weather': [{'id': 802, 'main': 'Clouds', 'description': 'scattered clouds', 'icon': '03d'}], 'base': 'stations', 'main': {'temp': 304.14, 'feels_like': 309.28, 'temp_min': 302.72, 'temp_max': 305.11, 'pressure': 1015, 'humidity': 65, 'sea_level': 1015, 'grnd_level': 1014}, 'visibility': 10000, 'wind': {'speed': 2.57, 'deg': 0}, 'clouds': {'all': 40}, 'dt': 1726792548, 'sys': {'type': 2, 'id': 2029209, 'country': 'JP', 'sunrise': 1726778670, 'sunset': 1726822711}, 'timezone': 32400, 'id': 1853909, 'name': 'Osaka', 'cod': 200}\n",
      "<class 'dict'>\n",
      "City: Osaka\n",
      "Weather: scattered clouds\n",
      "Temperature: 30.99 celsius\n"
     ]
    }
   ],
   "source": [
    "import requests\n",
    "\n",
    "# 보통 대문자 변수는 밑에서 변수를 바꾸지 말라는 의미로 사용한다\n",
    "API_KEY = \"b788bf877940f2c0f95020a0dc2fbaf9\"\n",
    "BASE_URL = \"http://api.openweathermap.org/data/2.5/weather\"\n",
    "LANGUAGE = \"en\" # 출력 중 Weather에 한국어로 받을 수 있음. 영어를 원하면 \"en\"이나 생략\n",
    "\n",
    "city = input(\"Enter a city name: \")\n",
    "request_url = f\"{BASE_URL}?appid={API_KEY}&q={city}&lang={LANGUAGE}\"\n",
    "\n",
    "print(request_url)\n",
    "\n",
    "response = requests.get(request_url) # 웹브라우저에 똑같이 사용\n",
    "# HTTP 상태 코드만 출력됨\n",
    "print(response)\n",
    "# 응답 본문을 JSON 형식으로 변환하여 Python의 딕셔너리 형태로 반환\n",
    "# 모든 API가 JSON 응답을 보내는 것은 아니므로 .text(str 형식) .content(bytes 형식) 을 사용할 수도 있음\n",
    "print(response.json())\n",
    "print(type(response.json()))\n",
    "\n",
    "if response.status_code == 200: # HTTP status 200은 성공을 의미합니다.\n",
    "\n",
    "    data = response.json()\n",
    "    city_name = data['name']\n",
    "    weather = data['weather'][0]['description']\n",
    "    temperature = round(data[\"main\"][\"temp\"] - 273.15, 2) # 켈빈 온도 사용\n",
    "\n",
    "    print(\"City:\", city_name)\n",
    "    print(\"Weather:\", weather)\n",
    "    print(\"Temperature:\", temperature, \"celsius\")\n",
    "\n",
    "else:\n",
    "    print(\"An error occurred.\", response.status_code)"
   ]
  },
  {
   "cell_type": "markdown",
   "metadata": {},
   "source": [
    "[보충] 만약 정확한 번역이 필요한 상황이라면 영어(```LANGUAGE=\"en\"```)로 정보를 받아서 dict 등으로 직접 번역하는 방법도 있습니다. Openweather에서 사용하는 날씨 종류는 [여기서](https://openweathermap.org/weather-conditions) 보실 수 있습니다. 한국 [공공데이터포털](https://www.data.go.kr/index.do)을 사용하는 방법도 있는데 API 사용법이 복잡해서 여기서는 Openweather를 사용하였습니다.\n",
    "\n",
    "\n",
    "\n",
    "\n",
    "\n",
    "\n",
    "\n",
    "\n",
    "\n",
    "\n",
    "\n",
    "\n"
   ]
  },
  {
   "cell_type": "markdown",
   "metadata": {},
   "source": [
    "##### [실습] 앞에서 만든 음성 비서에게 \"날씨\"라고 얘기하면 미리 정해놓은 도시의 날씨를 안내해주는 기능을 추가해보세요."
   ]
  },
  {
   "cell_type": "code",
   "execution_count": null,
   "metadata": {},
   "outputs": [],
   "source": [
    "import speech_recognition as sr\n",
    "from datetime import datetime\n",
    "from io import BytesIO\n",
    "from navertts import NaverTTS\n",
    "from pydub import AudioSegment\n",
    "from pydub.playback import play\n",
    "import requests\n",
    "\n",
    "r = sr.Recognizer()\n",
    "microphone = sr.Microphone(device_index=2) # 대부분의 경우 device_index 생략 가능\n",
    "\n"
   ]
  }
 ],
 "metadata": {
  "interpreter": {
   "hash": "f64e548cbf2ebb58caacc39a919b16809fbf0a70979c18e5ddba76aa9934d80e"
  },
  "kernelspec": {
   "display_name": "Python 3.9.5 64-bit ('base': conda)",
   "language": "python",
   "name": "python3"
  },
  "language_info": {
   "codemirror_mode": {
    "name": "ipython",
    "version": 3
   },
   "file_extension": ".py",
   "mimetype": "text/x-python",
   "name": "python",
   "nbconvert_exporter": "python",
   "pygments_lexer": "ipython3",
   "version": "3.12.4"
  },
  "orig_nbformat": 4
 },
 "nbformat": 4,
 "nbformat_minor": 2
}
