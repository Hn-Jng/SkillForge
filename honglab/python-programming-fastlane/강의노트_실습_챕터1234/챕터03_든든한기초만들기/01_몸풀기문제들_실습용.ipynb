{
 "cells": [
  {
   "cell_type": "markdown",
   "metadata": {},
   "source": [
    "___\n",
    "<a href='https://cafe.naver.com/jmhonglab'><p style=\"text-align:center;\"><img src='https://lh3.googleusercontent.com/lY3ySXooSmwsq5r-mRi7uiypbo0Vez6pmNoQxMFhl9fmZJkRHu5lO2vo7se_0YOzgmDyJif9fi4_z0o3ZFdwd8NVSWG6Ea80uWaf3pOHpR4GHGDV7kaFeuHR3yAjIJjDgfXMxsvw=w2400'  class=\"center\" width=\"50%\" height=\"50%\"/></p></a>\n",
    "___\n",
    "<center><em>Content Copyright by HongLab, Inc.</em></center>"
   ]
  },
  {
   "cell_type": "markdown",
   "metadata": {},
   "source": [
    "##### [문제] 오류 수정 연습\n",
    "\n",
    "정상적으로 실행되도록 수정해보세요.\n",
    "\n",
    "| 입력 | 출력 |\n",
    "|---|---|\n",
    "|없음|Hi, I'm Thanos!|"
   ]
  },
  {
   "cell_type": "code",
   "execution_count": 2,
   "metadata": {},
   "outputs": [
    {
     "name": "stdout",
     "output_type": "stream",
     "text": [
      "Hi, I'm Thanos!\n"
     ]
    }
   ],
   "source": [
    "print(\"Hi, I'm Thanos!\")"
   ]
  },
  {
   "cell_type": "code",
   "execution_count": 5,
   "metadata": {},
   "outputs": [
    {
     "name": "stdout",
     "output_type": "stream",
     "text": [
      "Hi, I'm Thanos!\n"
     ]
    }
   ],
   "source": [
    "print(\"Hi, I\\'m Thanos!\")"
   ]
  },
  {
   "cell_type": "markdown",
   "metadata": {},
   "source": [
    "정상적으로 실행되도록 수정해보세요.\n",
    "\n",
    "| 입력 | 출력 |\n",
    "|---|---|\n",
    "|없음|a는 10입니다.|"
   ]
  },
  {
   "cell_type": "code",
   "execution_count": 6,
   "metadata": {},
   "outputs": [
    {
     "name": "stdout",
     "output_type": "stream",
     "text": [
      "a는 10입니다.\n"
     ]
    }
   ],
   "source": [
    "a = 10\n",
    "\n",
    "if a == 10:\n",
    "    print(\"a는 10입니다.\")"
   ]
  },
  {
   "cell_type": "markdown",
   "metadata": {},
   "source": [
    "##### [문제] 스왑(swap)\n",
    "\n",
    "x와 y를 서로 바꿔서(swap) x가 123, y가 \"Hello\"가 되도록 만들어보세요.\n",
    "\n",
    "| 입력 | 출력 |\n",
    "|---|---|\n",
    "|없음|(123, \"Hello\")|"
   ]
  },
  {
   "cell_type": "code",
   "execution_count": 13,
   "metadata": {},
   "outputs": [
    {
     "data": {
      "text/plain": [
       "(123, 'Hello')"
      ]
     },
     "execution_count": 13,
     "metadata": {},
     "output_type": "execute_result"
    }
   ],
   "source": [
    "x, y = \"Hello\", 123\n",
    "\n",
    "# 여기에 구현해보세요\n",
    "x,y = y,x\n",
    "\n",
    "x, y # 결과 확인"
   ]
  },
  {
   "cell_type": "markdown",
   "metadata": {},
   "source": [
    "##### [문제] 100보다 큰 숫자만\n",
    "\n",
    "아래 리스트에서 100 보다 큰 숫자만 골라서 출력해보세요\n",
    "\n",
    "| 입력 | 출력 |\n",
    "|---|---|\n",
    "|없음|150 230|"
   ]
  },
  {
   "cell_type": "code",
   "execution_count": 15,
   "metadata": {},
   "outputs": [
    {
     "name": "stdout",
     "output_type": "stream",
     "text": [
      "150 230 "
     ]
    }
   ],
   "source": [
    "my_list = [3, 6, 150, 230, 0, -1.3]\n",
    "\n",
    "for i in my_list:\n",
    "    if i > 100:\n",
    "        print(i, end=\" \")\n",
    "\n"
   ]
  },
  {
   "cell_type": "markdown",
   "metadata": {},
   "source": [
    "##### [문제] 제곱의 합\n",
    "\n",
    "for문을 이용해서 1부터 100까지 숫자들의 제곱의 합을 구해보세요.\n",
    "$1^2 + 2^2 + \\cdots + 100^2$를 구하면 됩니다.\n",
    "| 입력 | 출력 |\n",
    "|---|---|\n",
    "|없음|338350|"
   ]
  },
  {
   "cell_type": "code",
   "execution_count": 19,
   "metadata": {},
   "outputs": [
    {
     "name": "stdout",
     "output_type": "stream",
     "text": [
      "338350\n"
     ]
    }
   ],
   "source": [
    "# 내가 작성\n",
    "my_sum = 0\n",
    "for i in range(1,101):\n",
    "    i **= 2\n",
    "    my_sum += i\n",
    "\n",
    "print(my_sum)\n",
    "\n",
    "# 정답지\n",
    "sqr_sum = 0\n",
    "for i in range(1, 101):\n",
    "    sqr_sum += i*i\n",
    "sqr_sum\n"
   ]
  },
  {
   "cell_type": "markdown",
   "metadata": {},
   "source": [
    "##### [문제] 소수 판별\n",
    "\n",
    "1 이상의 정수를 입력받아서 소수(prime number)인지 확인하는 프로그램을 만들어봅시다. 아래의 입출력 표를 참고해서 소수가 아닐 경우에는 나눌 수 있는 가장 작은 수도 같이 출력하세요.\n",
    "\n",
    "| 입력 | 출력 |\n",
    "|---|---|\n",
    "|1|1은 소수가 아닙니다.|\n",
    "|7|7은 소수입니다.|\n",
    "|10|10은 2로 나눌 수 있습니다.|\n",
    "|91|91은 7로 나눌 수 있습니다.|\n",
    "|103|103은 소수입니다.|\n",
    "\n",
    "**힌트**\n",
    "1. 1과 자기 자신으로만 나누어 떨어지는 숫자를 소수라고 합니다. 예를 들어서 6은 2 곱하기 3이기 때문에 소수가 아닙니다. 5나 7은 소수입니다. \n",
    "1. 입력받은 숫자가 1일 경우에는 별도의 ```if```문으로 처리해서 for문을 거치지 않게 하세요.\n",
    "1. 가장 단순한 방법은 하나씩 나눠보고 나머지가 0인지를 검사하는 것이겠지요. 예를 들어서 입력이 35라면 2로 나눠보고 3으로 나눠보고 ... 5로 나눴을 때 나머지가 0이니까 검사를 중단하면 됩니다.\n",
    "1. ```else```는 ```if```와도 사용될 수 있고 ```for```와도 사용될 수 있는데 **들여쓰기가 같은** ```for```나 ```if```와 함께 사용되는 것입니다. 줄 수가 가까운 쪽이 아닙니다."
   ]
  },
  {
   "cell_type": "code",
   "execution_count": 23,
   "metadata": {},
   "outputs": [
    {
     "name": "stdout",
     "output_type": "stream",
     "text": [
      "1은 소수가 아닙니다.\n",
      "7은 소수입니다.\n",
      "10은 2로 나눌 수 있습니다\n",
      "91은 7로 나눌 수 있습니다\n",
      "103은 소수입니다.\n",
      "11은 소수입니다.\n",
      "2은 소수입니다.\n",
      "3은 소수입니다.\n",
      "5은 소수입니다.\n",
      "7은 소수입니다.\n",
      "11은 소수입니다.\n",
      "13은 소수입니다.\n",
      "17은 소수입니다.\n",
      "19은 소수입니다.\n",
      "23은 소수입니다.\n",
      "22은 2로 나눌 수 있습니다\n",
      "21은 3로 나눌 수 있습니다\n",
      "29은 소수입니다.\n",
      "30은 2로 나눌 수 있습니다\n",
      "31은 소수입니다.\n",
      "32은 2로 나눌 수 있습니다\n",
      "33은 3로 나눌 수 있습니다\n",
      "34은 2로 나눌 수 있습니다\n",
      "35은 5로 나눌 수 있습니다\n",
      "36은 2로 나눌 수 있습니다\n",
      "37은 소수입니다.\n",
      "41은 소수입니다.\n",
      "43은 소수입니다.\n"
     ]
    },
    {
     "ename": "ValueError",
     "evalue": "invalid literal for int() with base 10: '종료'",
     "output_type": "error",
     "traceback": [
      "\u001b[1;31m---------------------------------------------------------------------------\u001b[0m",
      "\u001b[1;31mValueError\u001b[0m                                Traceback (most recent call last)",
      "Cell \u001b[1;32mIn[23], line 3\u001b[0m\n\u001b[0;32m      1\u001b[0m my_list \u001b[38;5;241m=\u001b[39m [\u001b[38;5;241m2\u001b[39m,\u001b[38;5;241m3\u001b[39m,\u001b[38;5;241m5\u001b[39m,\u001b[38;5;241m7\u001b[39m]\n\u001b[0;32m      2\u001b[0m \u001b[38;5;28;01mwhile\u001b[39;00m \u001b[38;5;28;01mTrue\u001b[39;00m:\n\u001b[1;32m----> 3\u001b[0m     num \u001b[38;5;241m=\u001b[39m \u001b[38;5;28;43mint\u001b[39;49m\u001b[43m(\u001b[49m\u001b[38;5;28;43minput\u001b[39;49m\u001b[43m(\u001b[49m\u001b[38;5;124;43m\"\u001b[39;49m\u001b[38;5;124;43m자연수를 입력해주세요:\u001b[39;49m\u001b[38;5;124;43m\"\u001b[39;49m\u001b[43m)\u001b[49m\u001b[43m)\u001b[49m\n\u001b[0;32m      4\u001b[0m     \u001b[38;5;28;01mif\u001b[39;00m num \u001b[38;5;241m==\u001b[39m \u001b[38;5;124m\"\u001b[39m\u001b[38;5;124m종료\u001b[39m\u001b[38;5;124m\"\u001b[39m:\n\u001b[0;32m      5\u001b[0m         \u001b[38;5;28;01mbreak\u001b[39;00m\n",
      "\u001b[1;31mValueError\u001b[0m: invalid literal for int() with base 10: '종료'"
     ]
    }
   ],
   "source": [
    "# 내가 작성\n",
    "my_list = [2,3,5,7]\n",
    "while True:\n",
    "    num = int(input(\"자연수를 입력해주세요:\"))\n",
    "    if num == \"종료\":\n",
    "        break\n",
    "    elif num == 1:\n",
    "        print(\"1은 소수가 아닙니다.\")\n",
    "    else :\n",
    "        for i in my_list:\n",
    "            if (num % i == 0) and num not in my_list:\n",
    "                print(f\"{num}은 {i}로 나눌 수 있습니다\")\n",
    "                break\n",
    "        else :\n",
    "            print(f\"{num}은 소수입니다.\")    \n",
    "            \n",
    "# 정답지\n",
    "'''\n",
    "여기서는 별다른 수학적 지식 없이 가장 단순하게 구현할 수 있는 방법을 사용했습니다. \n",
    "본 강의의 목표는 코딩테스트 준비가 아니지만 만약 코딩테스트용 풀이라면 조금이라도 더 효율적인 방법을 제시해야합니다. \n",
    "예를 들면 코테용 풀이에서는 range(2, num) 대신에 range(2, num//2+1)를 사용해서 컴퓨터가 찾아볼 구간을 최소로 줄여줍니다. \n",
    "더 많은 풀이법이 궁금하시다면 prime number python으로 검색해보세요.  \n",
    "보다 정확한 영어로는 \"How to check if a number is prime or not in Python\"인데 검색할때는 생각나는 키워드만으로 검색해보고 결과로부터 영어를 배우는 순서가 더 현실적입니다.\n",
    "'''\n",
    "num = int(input(\"자연수를 입력해주세요:\"))\n",
    "if num == 1:\n",
    "    print(num, \"은 소수가 아닙니다.\")\n",
    "else:\n",
    "    for i in range(2, num):\n",
    "        if num % i == 0:\n",
    "            print(f\"{num}은 {i}로 나눌 수 있습니다.\")\n",
    "            break\n",
    "    else:\n",
    "        print(f\"{num}은 소수입니다.\")\n"
   ]
  },
  {
   "cell_type": "markdown",
   "metadata": {},
   "source": [
    "##### [문제] 간단 계산기\n",
    "\n",
    "숫자, 연산자, 숫자를 순서대로 별도의 input() 함수로 입력받고 계산 결과를 출력하는 프로그램을 만들어 보세요.\n",
    "\n",
    "| 입력 | 출력 |\n",
    "|---|---|\n",
    "|1 + 10|1 + 10 = 11|\n",
    "|100 - 5|100 - 5 = 95|\n",
    "|3 * 5|3 * 5 = 15|\n",
    "|12 / 4|12 / 4 = 3.0|"
   ]
  },
  {
   "cell_type": "code",
   "execution_count": 33,
   "metadata": {},
   "outputs": [
    {
     "name": "stdout",
     "output_type": "stream",
     "text": [
      "12/4=3.0\n"
     ]
    }
   ],
   "source": [
    "# input() 함수를 3번 사용합니다.\n",
    "first_number = int(input(\"첫 번째 숫자를 입력해주세요:\"))\n",
    "operator = input(\"연산자를 입력해주세요:\")\n",
    "second_number = int(input(\"두 번째 숫자를 입력해주세요:\"))\n",
    "\n",
    "ouput_number = 0\n",
    "\n",
    "if operator == '+':\n",
    "    ouput_number = first_number + second_number\n",
    "elif operator == '-':\n",
    "    ouput_number = first_number - second_number\n",
    "elif operator == '*':\n",
    "    ouput_number = first_number * second_number\n",
    "elif operator == '/':\n",
    "    ouput_number = first_number / second_number\n",
    "\n",
    "print(f\"{first_number}{operator}{second_number}={ouput_number}\")\n",
    "\n",
    "# 정답지\n",
    "# input() 함수를 3번 사용합니다.\n",
    "first_number = int(input(\"첫 번째 숫자를 입력해주세요:\"))\n",
    "operator = input(\"연산자를 입력해주세요:\")\n",
    "second_number = int(input(\"두 번째 숫자를 입력해주세요:\"))\n",
    "\n",
    "if operator == '+':\n",
    "    result = first_number + second_number\n",
    "elif operator == '-':\n",
    "    result = first_number - second_number\n",
    "elif operator == '*':\n",
    "    result = first_number * second_number\n",
    "elif operator == '/':\n",
    "    result = first_number / second_number\n",
    "print(f\"{first_number} {operator} {second_number} = {result}\")"
   ]
  },
  {
   "cell_type": "markdown",
   "metadata": {},
   "source": [
    "##### [문제] ```eval()``` 함수와 표현식\n",
    "\n",
    "문자열에 계산 가능한 식을 넣으면 그 값을 계산해주는 편리한 함수입니다. 예를 들어서 ```eval(\"1 + 10\")```을 실행시키면 11이 됩니다. ```eval()``` 함수를 이용해서 계산 식을 입력하면 그 결과가 출력되는 프로그램을 만들어봅시다.\n",
    "\n",
    "| 입력 | 출력 |\n",
    "|---|---|\n",
    "|1+10|11|\n",
    "|100-5| 95|\n",
    "|3*5|15|\n",
    "|12/4|3.0|\n",
    "|(1+2)*3|9|"
   ]
  },
  {
   "cell_type": "code",
   "execution_count": 38,
   "metadata": {},
   "outputs": [
    {
     "data": {
      "text/plain": [
       "9"
      ]
     },
     "execution_count": 38,
     "metadata": {},
     "output_type": "execute_result"
    }
   ],
   "source": [
    "user_input = input(\"계산식을 입력해주세요:\")\n",
    "\n",
    "user_output = eval(user_input)\n",
    "user_output\n",
    "\n",
    "# 정답지\n",
    "user_input = input(\"계산식을 입력해주세요.\")\n",
    "print(eval(user_input))"
   ]
  },
  {
   "cell_type": "markdown",
   "metadata": {},
   "source": [
    "##### [문제] eval() 함수와 시퀀스\n",
    "\n",
    "여러 개의 숫자를 컴마로 구분해서 입력받고 그 숫자들의 합을 구해봅시다.\n",
    "\n",
    "| 입력 | 출력 |\n",
    "|---|---|\n",
    "|1, 2, 3|6|\n",
    "|3, 2, 1, 8, 6|20|\n",
    "|7|오류|\n",
    "|7,|7|\n",
    "\n",
    "참고로 ```1 2 3```과 같이 빈칸만으로 구분해서 입력하면 오류가 발생합니다."
   ]
  },
  {
   "cell_type": "code",
   "execution_count": 49,
   "metadata": {},
   "outputs": [
    {
     "name": "stdout",
     "output_type": "stream",
     "text": [
      "오류\n"
     ]
    },
    {
     "ename": "SyntaxError",
     "evalue": "invalid syntax (<string>, line 0)",
     "output_type": "error",
     "traceback": [
      "Traceback \u001b[1;36m(most recent call last)\u001b[0m:\n",
      "\u001b[0m  File \u001b[0;32mc:\\Users\\USER\\miniconda3\\Lib\\site-packages\\IPython\\core\\interactiveshell.py:3553\u001b[0m in \u001b[0;35mrun_code\u001b[0m\n    exec(code_obj, self.user_global_ns, self.user_ns)\u001b[0m\n",
      "\u001b[1;36m  Cell \u001b[1;32mIn[49], line 15\u001b[1;36m\n\u001b[1;33m    input_numbers = eval(input()) # 1,2,3 은 tuple 타입으로, 7은 int 타입으로 타입변환시켜준다.\u001b[1;36m\n",
      "\u001b[1;36m  File \u001b[1;32m<string>\u001b[1;36m\u001b[0m\n\u001b[1;33m    \u001b[0m\n\u001b[1;37m    ^\u001b[0m\n\u001b[1;31mSyntaxError\u001b[0m\u001b[1;31m:\u001b[0m invalid syntax\n"
     ]
    }
   ],
   "source": [
    "user_input = (input(\"계산식을 입력해주세요:\")).replace(\",\", \"+\")\n",
    "\n",
    "# 내가 작성\n",
    "if '+' not in user_input:\n",
    "    print(\"오류\")\n",
    "elif user_input[-1] == \"+\":\n",
    "    user_input = user_input + \"0\"\n",
    "    print(eval(user_input))\n",
    "else :\n",
    "    print(eval(user_input))\n",
    "    \n",
    "    \n",
    "# 정답지\n",
    "\n",
    "input_numbers = eval(input()) # 1,2,3 은 tuple 타입으로, 7은 int 타입으로 타입변환시켜준다.\n",
    "my_sum = 0\n",
    "for i in input_numbers:\n",
    "    my_sum += i\n",
    "print(my_sum)\n"
   ]
  },
  {
   "cell_type": "code",
   "execution_count": 47,
   "metadata": {},
   "outputs": [
    {
     "name": "stdout",
     "output_type": "stream",
     "text": [
      "(1,) <class 'tuple'>\n"
     ]
    }
   ],
   "source": [
    "input_numbers = eval(input())\n",
    "print(input_numbers, type(input_numbers))"
   ]
  },
  {
   "cell_type": "markdown",
   "metadata": {},
   "source": [
    "##### [문제] BMI 계산기\n",
    "\n",
    "키와 몸무게를 입력받아서 BMI 수치와 비만 정도를 알려주는 프로그램을 만들어봅시다.\n",
    "BMI는 아래 식을 이용해서 계산할 수 있습니다. 주의 사항은 키를 입력받을 때는 cm 단위로 입력받은 후에 다시 미터 단위로 변환해서 계산에 사용해야 합니다.\n",
    "\n",
    "$BMI = 몸무게 / (키 * 키)$\n",
    "\n",
    "문제를 단순화 하기 위하여 BMI 25 이상은 비만, 18.5 미만은 저체중, 그 외에는 정상으로 판별해봅시다. \n",
    "\n",
    "|입력|출력|\n",
    "|---|---|\n",
    "|키178몸무게80|BMI 수치는 25.25 입니다. 비만|\n",
    "|키164몸무게48|BMI 수치는 17.85 입니다. 저체중|\n",
    "|키170몸무게60|BMI 수치는 20.76 입니다. 정상|\n",
    "\n",
    "BMI는 소수점 아래 2자리만 출력하세요."
   ]
  },
  {
   "cell_type": "code",
   "execution_count": 126,
   "metadata": {},
   "outputs": [
    {
     "name": "stdout",
     "output_type": "stream",
     "text": [
      "BMI 수치는 25.25입니다. 비만\n"
     ]
    }
   ],
   "source": [
    "# 내가 작성 --> print 공통 문장은 정답지처럼 한 줄 코드로 줄일 수 있었고, round 함수로 소수점 둘째자리까지 표현하는 것 대신 2f 표현 방법도 있음.\n",
    "height = int(input(\"키를 cm 단위로 입력해주세요\")) * 0.01\n",
    "weight = int(input(\"몸무게를 kg 단위로 입력해주세요\"))\n",
    "\n",
    "BMI = round(weight / (height * height), 2)\n",
    "\n",
    "if BMI >= 25:\n",
    "    print(f\"BMI 수치는 {BMI}입니다. 비만\")\n",
    "elif BMI < 18.5:\n",
    "    print(f\"BMI 수치는 {BMI}입니다. 저체중\")\n",
    "else:\n",
    "    print(f\"BMI 수치는 {BMI}입니다. 정상\")\n",
    "    \n",
    "# 정답지\n",
    "height = int(input(\"키를 cm 단위로 입력해주세요:\")) * 0.01\n",
    "weight = int(input(\"몸무게를 kg 단위로 입력해주세요.\"))\n",
    "\n",
    "bmi = weight / (height * height)\n",
    "\n",
    "print(f\"BMI 수치는 {bmi:.2f} 입니다.\")\n",
    "\n",
    "if bmi >= 25:\n",
    "\n",
    "    print(\"비만\")\n",
    "\n",
    "elif bmi < 18.5:\n",
    "\n",
    "    print(\"저체중\")\n",
    "\n",
    "else:\n",
    "\n",
    "    print(\"정상\")"
   ]
  },
  {
   "cell_type": "code",
   "execution_count": null,
   "metadata": {},
   "outputs": [],
   "source": [
    "'''추가문제\n",
    "\"키178몸무게80\" 같이 문자열 하나만 입력받아서 숫자 178과 80을 추출하는 방법\n",
    "리스트 컴프리헨션 공부 후에 풀어보세요\n",
    "힌트: \"\".join(여기에 리스트컴프리헨션 사용), split()\n",
    "'''\n"
   ]
  },
  {
   "cell_type": "markdown",
   "metadata": {},
   "source": [
    "##### [문제] FizzBuzz\n",
    "\n",
    "1에서 20까지의 정수에 대해서 3의 배수이면 Fizz를, 5의 배수이면 Buzz를, 3의 배수이면서 5의 배수라면 FizzBuzz를 출력합니다.\n",
    "\n",
    "**실행 예시**\n",
    "\n",
    "```\n",
    "1 2 Fizz 4 Buzz Fizz 7 8 Fizz Buzz 11 Fizz 13 14 FizzBuzz 16 17 Fizz 19 Buzz\n",
    "```\n"
   ]
  },
  {
   "cell_type": "code",
   "execution_count": 119,
   "metadata": {},
   "outputs": [
    {
     "name": "stdout",
     "output_type": "stream",
     "text": [
      "1 2 Fizz 4 Buzz Fizz 7 8 Fizz Buzz 11 Fizz 13 14 FizzBuzz 16 17 Fizz 19 Buzz "
     ]
    }
   ],
   "source": [
    "# 내가 작성 --> 굳이 my_list 변수 정의 안하고 정답지처럼 for문으로 바로 시작했어도 됐음.\n",
    "my_list = list(range(1, 21))\n",
    "\n",
    "for i in my_list:\n",
    "    if (i % 3 == 0) and (i % 5 == 0):\n",
    "        print(\"FizzBuzz\", end=\" \")\n",
    "    elif i % 3 == 0:\n",
    "        print(\"Fizz\", end=\" \")\n",
    "    elif i % 5 == 0:\n",
    "        print(\"Buzz\", end=\" \")\n",
    "    else:\n",
    "        print(i, end=\" \")\n",
    "        \n",
    "# 정답지\n",
    "for num in range(1, 21):\n",
    "    if num % 3 == 0 and num % 5 == 0:\n",
    "        print('FizzBuzz', end=\" \")\n",
    "    elif num % 3 == 0:\n",
    "        print('Fizz', end=\" \")\n",
    "    elif num % 5 == 0:\n",
    "        print('Buzz', end=\" \")\n",
    "    else:\n",
    "        print(num, end=\" \")\n"
   ]
  },
  {
   "cell_type": "markdown",
   "metadata": {},
   "source": [
    "##### [문제] 369 게임\n",
    "\n",
    "1에서 20까지의 정수에 대해서 끝자리 숫자가 3이나 6이나 9라면 \"짝\"을 출력하고 그렇지 않다면 그 숫자를 출력합니다.\n",
    "\n",
    "```\n",
    "1 2 짝 4 5 짝 7 8 짝 10 11 12 짝 14 15 짝 17 18 짝 20\n",
    "```\n"
   ]
  },
  {
   "cell_type": "code",
   "execution_count": 53,
   "metadata": {},
   "outputs": [
    {
     "name": "stdout",
     "output_type": "stream",
     "text": [
      "1 2 짝 4 5 짝 7 8 짝 10 11 12 짝 14 15 짝 17 18 짝 20 21 22 짝 24 25 짝 27 28 짝 짝 \n",
      "1 2 짝 4 5 짝 7 8 짝 10 11 12 짝 14 15 짝 17 18 짝 20 21 22 짝 24 25 짝 27 28 짝 30 "
     ]
    }
   ],
   "source": [
    "'''\n",
    "내가 작성 \n",
    "-> my_list 따로 변수 정의 안해도 됐었고, \n",
    "출력 예시대로 결과가 맞아떨어지기는 했지만 \"끝자리 숫자가 3이나 6이나 9라면 짝\" 이라는 부분을 만족하려면 정답지와 같이 10으로 나눠서 나머지를 체크하는 방식이 맞았음.\n",
    "(나는 문자열로 치환해서 문자열안에 3,6,9가 들어가는지만 체크함. 이 경우 30, 60 등이 나올 때는 아래 정답지와 결과가 다름)\n",
    "'''\n",
    "my_list = list(range(1, 31))\n",
    "\n",
    "for i in my_list:\n",
    "    if ('3' in str(i)) or ('6' in str(i)) or ('9' in str(i)):\n",
    "        print(\"짝\", end=\" \")\n",
    "    else:\n",
    "        print(i, end=\" \")\n",
    "print()        \n",
    "# 정답지\n",
    "for i in range(1, 31):   \n",
    "    if i % 10 in (3, 6, 9):\n",
    "        print(\"짝\", end=\" \")\n",
    "    else:\n",
    "        print(i, end=\" \")\n"
   ]
  },
  {
   "cell_type": "markdown",
   "metadata": {},
   "source": [
    "##### [문제] 자연수만 입력받기\n",
    "\n",
    "사용자가 input() 함수로 자연수를 입력할 때까지 반복해서 입력을 받도록 해봅시다. 자연수는 1, 2, 3, ... 같이 1이상의 양의 정수입니다.\n",
    "\n",
    "**실행 예시**  \n",
    "자연수를 입력해주세요: 0  \n",
    "자연수가 아닙니다.  \n",
    "자연수를 입력해주세요: hello  \n",
    "자연수가 아닙니다.  \n",
    "자연수를 입력해주세요: a123  \n",
    "자연수가 아닙니다.  \n",
    "자연수를 입력해주세요: -100  \n",
    "자연수가 아닙니다.  \n",
    "자연수를 입력해주세요: 1234  \n",
    "자연수입니다.\n",
    "\n",
    "**힌트**  \n",
    "1. ```isnumeric()``` 메써드 사용\n",
    "1. ```:=``` 연산자 사용 (파이썬 3.8 이상인지 확인)"
   ]
  },
  {
   "cell_type": "code",
   "execution_count": 16,
   "metadata": {},
   "outputs": [
    {
     "data": {
      "text/plain": [
       "True"
      ]
     },
     "execution_count": 16,
     "metadata": {},
     "output_type": "execute_result"
    }
   ],
   "source": [
    "a=\"0\"\n",
    "a.isnumeric()"
   ]
  },
  {
   "cell_type": "code",
   "execution_count": 1,
   "metadata": {},
   "outputs": [
    {
     "name": "stdout",
     "output_type": "stream",
     "text": [
      "자연수입니다.\n"
     ]
    }
   ],
   "source": [
    "# while user_input := input() :\n",
    "#     print(f\"자연수를 입력해주세요:{user_input}\")\n",
    "#     if user_input.isnumeric() == False :\n",
    "#         print(\"자연수가 아닙니다.\")\n",
    "#     else :\n",
    "#         print(\"자연수입니다.\")\n",
    "#         break\n",
    "    \n",
    "# 정답지\n",
    "while not ((i := input(\"자연수를 입력해주세요:\")).isnumeric() and i != \"0\"):\n",
    "    print(\"자연수가 아닙니다.\")\n",
    "else:\n",
    "    print(\"자연수입니다.\")"
   ]
  }
 ],
 "metadata": {
  "interpreter": {
   "hash": "d187a48a8a4b28f37103ceb7e85bceb2b63d70db7314890fe18e7e16ec425e3f"
  },
  "kernelspec": {
   "display_name": "Python 3.9.7 64-bit ('base': conda)",
   "language": "python",
   "name": "python3"
  },
  "language_info": {
   "codemirror_mode": {
    "name": "ipython",
    "version": 3
   },
   "file_extension": ".py",
   "mimetype": "text/x-python",
   "name": "python",
   "nbconvert_exporter": "python",
   "pygments_lexer": "ipython3",
   "version": "3.12.2"
  },
  "orig_nbformat": 4
 },
 "nbformat": 4,
 "nbformat_minor": 2
}
