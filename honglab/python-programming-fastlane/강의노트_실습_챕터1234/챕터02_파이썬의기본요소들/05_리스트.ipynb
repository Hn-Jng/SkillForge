{
 "cells": [
  {
   "cell_type": "markdown",
   "metadata": {},
   "source": [
    "___\n",
    "<a href='https://cafe.naver.com/jmhonglab'><p style=\"text-align:center;\"><img src='https://lh3.googleusercontent.com/lY3ySXooSmwsq5r-mRi7uiypbo0Vez6pmNoQxMFhl9fmZJkRHu5lO2vo7se_0YOzgmDyJif9fi4_z0o3ZFdwd8NVSWG6Ea80uWaf3pOHpR4GHGDV7kaFeuHR3yAjIJjDgfXMxsvw=w2400'  class=\"center\" width=\"50%\" height=\"50%\"/></p></a>\n",
    "___\n",
    "<center><em>Content Copyright by HongLab, Inc.</em></center>"
   ]
  },
  {
   "cell_type": "markdown",
   "metadata": {},
   "source": [
    "# 파이썬 컨테이너(Containers)\n",
    "\n",
    "파이썬에서는 다른 객체들을 여러 개 담을 수 있는 자료형들도 제공합니다. 기본적으로는 리스트(list), 사전(dict), 집합(set), 튜플(tuple) 등이 제공됩니다. [collections 모듈](https://docs.python.org/ko/3/library/collections.html)을 통해서 더 많은 종류의 컨테이너 자료형들을 사용할 수 있습니다.\n",
    "\n",
    "### 기본 컨테이터 자료형들 정리\n",
    "\n",
    "|이름|type|예시|가변성|순서유지|중복허용|\n",
    "|---|---|---|---|---|---|\n",
    "|리스트|list|```[\"사과\", 123, 3.14]```|가변|O|O|\n",
    "|튜플|tuple|```(\"사과\", 123, 3.14)```|불변|O|O|\n",
    "|집합|set|```{\"사과\", 123, 3.14}```|가변|X|X|\n",
    "|사전|dict|```{\"원주율\":3.14, 123:\"일이삼\"}```|가변|3.6+|키X값O|"
   ]
  },
  {
   "cell_type": "markdown",
   "metadata": {},
   "source": [
    "# [리스트](https://docs.python.org/ko/3/tutorial/introduction.html#lists) 사용법 ([List](https://docs.python.org/3/tutorial/introduction.html#lists))\n",
    "\n",
    "리스트는 파이썬에서 가장 유연하게 사용할 수 있고 많이 사용되는 컨테이너입니다.\n",
    "\n",
    "### 리스트를 만드는 방법\n",
    "리스트는 대괄호(square brackets [])으로 만들어지고 컴마(comma ,) 기호를 이용해서 아이템(item)을 구분합니다."
   ]
  },
  {
   "cell_type": "code",
   "execution_count": 3,
   "metadata": {},
   "outputs": [
    {
     "name": "stdout",
     "output_type": "stream",
     "text": [
      "[101, 102, 103, 104, 105, 106, 107, 108, 109, 110]\n"
     ]
    }
   ],
   "source": [
    "my_list = []  # 비어있는 리스트\n",
    "my_list = [1, 2, 3, 4, 5]  # 아이템 나열\n",
    "my_list = [\"A string\", 23, 100.232, \"o\"]  # 다양한 자료형의 객체들을 담을 수 있어요\n",
    "my_list = [x + 100 for x in range(1, 11)]  # 아이템들의 조건을 기술\n",
    "print(my_list)"
   ]
  },
  {
   "cell_type": "code",
   "execution_count": 4,
   "metadata": {},
   "outputs": [
    {
     "data": {
      "text/plain": [
       "10"
      ]
     },
     "execution_count": 4,
     "metadata": {},
     "output_type": "execute_result"
    }
   ],
   "source": [
    "# 아이템 개수\n",
    "len(my_list)"
   ]
  },
  {
   "cell_type": "markdown",
   "metadata": {},
   "source": [
    "### 리스트는 가변(Mutable)\n",
    "\n",
    "리스트는 문자열과 달리 가변(mutable) 자료형입니다."
   ]
  },
  {
   "cell_type": "code",
   "execution_count": 10,
   "metadata": {},
   "outputs": [
    {
     "data": {
      "text/plain": [
       "'하나'"
      ]
     },
     "execution_count": 10,
     "metadata": {},
     "output_type": "execute_result"
    }
   ],
   "source": [
    "parm_list = [\"하나\", \"two\", 3, 4.0]\n",
    "# 리스트에서도 인덱싱을 사용할 수 있습니다.\n",
    "parm_list[0]"
   ]
  },
  {
   "cell_type": "code",
   "execution_count": 6,
   "metadata": {},
   "outputs": [
    {
     "data": {
      "text/plain": [
       "['two', 3, 4.0]"
      ]
     },
     "execution_count": 6,
     "metadata": {},
     "output_type": "execute_result"
    }
   ],
   "source": [
    "# 슬라이싱 규칙은 문자열과 같아요\n",
    "parm_list[1:]"
   ]
  },
  {
   "cell_type": "code",
   "execution_count": 11,
   "metadata": {},
   "outputs": [
    {
     "name": "stdout",
     "output_type": "stream",
     "text": [
      "1847211846016 ['하나', 'two', 3, 4.0]\n",
      "1847211846016 ['둘', 'two', 3, 4.0]\n"
     ]
    }
   ],
   "source": [
    "# 리스트는 가변(mutable) 자료형\n",
    "print(id(parm_list), parm_list)\n",
    "parm_list[0] = \"둘\"\n",
    "print(id(parm_list), parm_list)"
   ]
  },
  {
   "cell_type": "code",
   "execution_count": 24,
   "metadata": {},
   "outputs": [
    {
     "name": "stdout",
     "output_type": "stream",
     "text": [
      "1847211783808 [0, 1, 2, 3, 4, 5]\n",
      "1847211783808 [0, 'A', 'B', 'c', 3, 4, 5]\n"
     ]
    }
   ],
   "source": [
    "# 슬라이싱으로도 대입이 가능해요\n",
    "my_list = [0,1,2,3,4,5]\n",
    "print(id(my_list), my_list)\n",
    "\n",
    "my_list[1:3] = [\"A\", \"B\", \"c\"]\n",
    "print(id(my_list), my_list)"
   ]
  },
  {
   "cell_type": "code",
   "execution_count": 25,
   "metadata": {},
   "outputs": [
    {
     "data": {
      "text/plain": [
       "[0, 'A', 'B', 'c', 3, 4, 5, 'added item']"
      ]
     },
     "execution_count": 25,
     "metadata": {},
     "output_type": "execute_result"
    }
   ],
   "source": [
    "# 더하기 연산자로 아이템 추가 (주의: 리스트 끼리만 연산)\n",
    "my_list + [\"added item\"]"
   ]
  },
  {
   "cell_type": "code",
   "execution_count": 26,
   "metadata": {},
   "outputs": [
    {
     "data": {
      "text/plain": [
       "[0, 'A', 'B', 'c', 3, 4, 5]"
      ]
     },
     "execution_count": 26,
     "metadata": {},
     "output_type": "execute_result"
    }
   ],
   "source": [
    "# 원래 리스트에는 변화가 없음\n",
    "my_list"
   ]
  },
  {
   "cell_type": "code",
   "execution_count": 27,
   "metadata": {},
   "outputs": [
    {
     "name": "stdout",
     "output_type": "stream",
     "text": [
      "1847211783808 [0, 'A', 'B', 'c', 3, 4, 5]\n",
      "1847211843392 [0, 'A', 'B', 'c', 3, 4, 5, 'itme을 추가하면 ID가 달라질까?']\n"
     ]
    }
   ],
   "source": [
    "# 리스트간의 더하기 후 대입\n",
    "print(id(my_list), my_list)\n",
    "my_list = my_list + [\"itme을 추가하면 ID가 달라질까?\"]\n",
    "print(id(my_list), my_list) # ㅇㅇ 달라짐"
   ]
  },
  {
   "cell_type": "code",
   "execution_count": 29,
   "metadata": {},
   "outputs": [
    {
     "name": "stdout",
     "output_type": "stream",
     "text": [
      "1847211843392 [0, 'A', 'B', 'c', 3, 4, 5, 'itme을 추가하면 ID가 달라질까?']\n",
      "1847211843392 [0, 'A', 'B', 'c', 3, 4, 5, 'itme을 추가하면 ID가 달라질까?', 'itme을 추가하면 ID가 달라질까?']\n"
     ]
    }
   ],
   "source": [
    "# += 연산자 사용\n",
    "print(id(my_list), my_list)\n",
    "my_list += [\"itme을 추가하면 ID가 달라질까?\"]\n",
    "print(id(my_list), my_list) # ㄴㄴ 안 달라짐. 위와 무슨 차이지..?"
   ]
  },
  {
   "cell_type": "code",
   "execution_count": 33,
   "metadata": {},
   "outputs": [
    {
     "name": "stdout",
     "output_type": "stream",
     "text": [
      "1847217786240 ['둘', 'two', 3, 4.0, '둘', 'two', 3, 4.0]\n",
      "1847217748288 ['둘', 'two', 3, 4.0, '둘', 'two', 3, 4.0, '둘', 'two', 3, 4.0, '둘', 'two', 3, 4.0]\n"
     ]
    }
   ],
   "source": [
    "# 리스트와 정수의 곱하기\n",
    "print(id(parm_list), parm_list)\n",
    "\n",
    "parm_list = parm_list * 2 # duplicate list\n",
    "print(id(parm_list), parm_list)\n"
   ]
  },
  {
   "cell_type": "code",
   "execution_count": 34,
   "metadata": {},
   "outputs": [
    {
     "name": "stdout",
     "output_type": "stream",
     "text": [
      "1847217748288 ['둘', 'two', 3, 4.0, '둘', 'two', 3, 4.0, '둘', 'two', 3, 4.0, '둘', 'two', 3, 4.0]\n",
      "1847217748288 ['둘', 'two', 3, 4.0, '둘', 'two', 3, 4.0, '둘', 'two', 3, 4.0, '둘', 'two', 3, 4.0, '둘', 'two', 3, 4.0, '둘', 'two', 3, 4.0, '둘', 'two', 3, 4.0, '둘', 'two', 3, 4.0]\n"
     ]
    }
   ],
   "source": [
    "# *= 연산자 사용\n",
    "print(id(parm_list), parm_list)\n",
    "\n",
    "parm_list *= 2 # duplicate list\n",
    "print(id(parm_list), parm_list)"
   ]
  },
  {
   "cell_type": "markdown",
   "metadata": {},
   "source": [
    "### 기본적인 메써드\n",
    "문자열은 변경을 하려면 새로운 객체를 만들어야 했습니다.  \n",
    "리스트는 가변 자료형이기 때문에 객체를 유지한 채로 내용을 바꿀 수 있어요."
   ]
  },
  {
   "cell_type": "code",
   "execution_count": 44,
   "metadata": {},
   "outputs": [
    {
     "name": "stdout",
     "output_type": "stream",
     "text": [
      "1847211518976 [1, 2, 3]\n",
      "1847211518976 [1, 2, 3, 'new item']\n"
     ]
    }
   ],
   "source": [
    "my_list = [1,2,3]\n",
    "print(id(my_list), my_list)\n",
    "# append() 메써드를 이용하면 새로운 아이템을 추가할 수 있어요\n",
    "my_list.append(\"new item\")\n",
    "\n",
    "print(id(my_list), my_list)# id가 변할까요? ㄴㄴ 안변함"
   ]
  },
  {
   "cell_type": "code",
   "execution_count": 46,
   "metadata": {},
   "outputs": [
    {
     "name": "stdout",
     "output_type": "stream",
     "text": [
      "1847211599424 [1, 2, 3]\n",
      "<class 'NoneType'> None\n"
     ]
    }
   ],
   "source": [
    "my_list = [1,2,3]\n",
    "print(id(my_list), my_list)\n",
    "\n",
    "# 이렇게 하면 새로운 객체를 만들어줄까?\n",
    "new_list = my_list.append(\"new_item\")\n",
    "\n",
    "print(type(new_list), new_list) # append method는 새로운 객체를 생성하지 않는다"
   ]
  },
  {
   "cell_type": "code",
   "execution_count": 61,
   "metadata": {},
   "outputs": [
    {
     "name": "stdout",
     "output_type": "stream",
     "text": [
      "pop: 2\n",
      "my_list: [1, 3, 'a']\n"
     ]
    }
   ],
   "source": [
    "# pop() 메써드를 사용하면 원하는 위치에서 아이템 하나를 가져오면서 삭제합니다.\n",
    "my_list = [1,2,3, 'a']\n",
    "p = my_list.pop(1) # 괄호 안에는 공백 혹은 숫자(인덱스)만 입력 가능하며, 공백 즉, 아무것도 입력하지 않았을 때는 가장 마지막 item을 삭제한다.\n",
    "print(\"pop:\", p)\n",
    "print(\"my_list:\", my_list)"
   ]
  },
  {
   "cell_type": "code",
   "execution_count": 89,
   "metadata": {},
   "outputs": [
    {
     "name": "stdout",
     "output_type": "stream",
     "text": [
      "['E', 'D', 'C', 'B', 'A']\n"
     ]
    }
   ],
   "source": [
    "# reverse() 메써드 사용\n",
    "# my_list = [1,2,3]\n",
    "my_list = ['A', 'B', 'C', 'D', 'E']\n",
    "my_list.reverse() \n",
    "print(my_list)\n"
   ]
  },
  {
   "cell_type": "code",
   "execution_count": 88,
   "metadata": {},
   "outputs": [
    {
     "name": "stdout",
     "output_type": "stream",
     "text": [
      "['E', 'D', 'C', 'B', 'A']\n",
      "None\n"
     ]
    }
   ],
   "source": [
    "# 만약 reverse() 함수의 결과를 다른 변수로 받는다면?\n",
    "my_list = ['A', 'B', 'C', 'D', 'E']\n",
    "new_list = my_list.reverse() \n",
    "\n",
    "# 확인해봅시다.\n",
    "print(f\"{my_list}\\n{new_list}\") \n",
    "'''\n",
    "append와 마찬가지로 대입하여 객체 생성 시 None 반환\n",
    "단순히 새로운 객체 생성하는 것이 아니라 my_list에 reverse가 적용된다\n",
    "'''"
   ]
  },
  {
   "cell_type": "code",
   "execution_count": 94,
   "metadata": {},
   "outputs": [
    {
     "data": {
      "text/plain": [
       "(['E', 'D', 'C', 'B', 'A'], ['A', 'B', 'C', 'D', 'E'])"
      ]
     },
     "execution_count": 94,
     "metadata": {},
     "output_type": "execute_result"
    }
   ],
   "source": [
    "# 만약 reverse 된 새로운 리스트를 만들고 싶다면?\n",
    "my_list = ['A', 'B', 'C', 'D', 'E']\n",
    "\n",
    "# 슬라이싱을 이용해보세요.\n",
    "new_list = my_list[::-1]\n",
    "new_list, my_list"
   ]
  },
  {
   "cell_type": "code",
   "execution_count": 99,
   "metadata": {},
   "outputs": [
    {
     "data": {
      "text/plain": [
       "[9, 8, 7, 6, 5, 3, 2, 2, 1]"
      ]
     },
     "execution_count": 99,
     "metadata": {},
     "output_type": "execute_result"
    }
   ],
   "source": [
    "# 정렬 sort() 메써드 사용\n",
    "my_list = [7,2,6,8,5,3,2,1,9]\n",
    "\n",
    "my_list.sort()\n",
    "# 아래와 같이 reverse 옵션을 사용하여 역순으로 정렬도 가능하다.\n",
    "my_list.sort(reverse=True) \n",
    "\n",
    "my_list"
   ]
  },
  {
   "cell_type": "code",
   "execution_count": 103,
   "metadata": {},
   "outputs": [
    {
     "data": {
      "text/plain": [
       "['Danielle', 'Haerin', 'Hanni', 'Hyein', 'Minji', 'danielle', 'hanni']"
      ]
     },
     "execution_count": 103,
     "metadata": {},
     "output_type": "execute_result"
    }
   ],
   "source": [
    "# 문자열을 정렬한다면?\n",
    "my_list = ['Minji', 'Hanni', 'Danielle', 'Haerin', 'Hyein','hanni', 'danielle']\n",
    "\n",
    "my_list.sort()\n",
    "my_list # 알파벳(자음,모음 순)으로 정렬되며, 대문자는 항상 소문자보다 앞선다."
   ]
  },
  {
   "cell_type": "markdown",
   "metadata": {},
   "source": [
    "이 외에도 다양한 메써드들이 제공됩니다. 어떤 기능을 하는지 추측해보세요."
   ]
  },
  {
   "cell_type": "code",
   "execution_count": 104,
   "metadata": {},
   "outputs": [
    {
     "data": {
      "text/plain": [
       "[]"
      ]
     },
     "execution_count": 104,
     "metadata": {},
     "output_type": "execute_result"
    }
   ],
   "source": [
    "my_list = [3, 1, 4, 1, 5, 9, 2]\n",
    "\n",
    "my_list.clear()\n",
    "\n",
    "my_list"
   ]
  },
  {
   "cell_type": "code",
   "execution_count": 105,
   "metadata": {},
   "outputs": [
    {
     "data": {
      "text/plain": [
       "4"
      ]
     },
     "execution_count": 105,
     "metadata": {},
     "output_type": "execute_result"
    }
   ],
   "source": [
    "my_list = [\"내가\", \"몇개\", \"몇개\", \"몇개\", \"몇개\", \"있을까?\"]\n",
    "\n",
    "my_list.count(\"몇개\")"
   ]
  },
  {
   "cell_type": "code",
   "execution_count": 107,
   "metadata": {},
   "outputs": [
    {
     "data": {
      "text/plain": [
       "[1, 2, 3, 4, 5, 6]"
      ]
     },
     "execution_count": 107,
     "metadata": {},
     "output_type": "execute_result"
    }
   ],
   "source": [
    "my_list = [1, 2, 3]\n",
    "list_to_add = [4, 5, 6]\n",
    "\n",
    "my_list.extend(list_to_add)\n",
    "my_list"
   ]
  },
  {
   "cell_type": "code",
   "execution_count": 108,
   "metadata": {},
   "outputs": [
    {
     "data": {
      "text/plain": [
       "5"
      ]
     },
     "execution_count": 108,
     "metadata": {},
     "output_type": "execute_result"
    }
   ],
   "source": [
    "my_list = [\"내가\", \"몇개\", \"몇개\", \"몇개\", \"몇개\", \"있을까?\"]\n",
    "\n",
    "my_list.index(\"있을까?\")"
   ]
  },
  {
   "cell_type": "code",
   "execution_count": 115,
   "metadata": {},
   "outputs": [
    {
     "data": {
      "text/plain": [
       "['내가', '몇개', '몇개', '몇개', '있을까?']"
      ]
     },
     "execution_count": 115,
     "metadata": {},
     "output_type": "execute_result"
    }
   ],
   "source": [
    "my_list = [\"내가\", \"몇개\", \"몇개\", \"몇개\", \"몇개\", \"있을까?\"]\n",
    "\n",
    "my_list.remove(\"몇개\") # 한 개만 지운다.\n",
    "my_list"
   ]
  },
  {
   "cell_type": "code",
   "execution_count": 118,
   "metadata": {},
   "outputs": [
    {
     "data": {
      "text/plain": [
       "['A', 'B', 'C', 'D', 'E']"
      ]
     },
     "execution_count": 118,
     "metadata": {},
     "output_type": "execute_result"
    }
   ],
   "source": [
    "my_list = [\"A\", \"B\", \"D\", \"E\"]\n",
    "\n",
    "my_list.insert(2, \"C\") # 처음 입력받는 숫자는 해당 문자가 들어갈 인덱스를 가리킨다.\n",
    "my_list"
   ]
  },
  {
   "cell_type": "markdown",
   "metadata": {},
   "source": [
    "정답은 [여기](https://www.w3schools.com/python/python_ref_list.asp)를 참고하시거나 검색해보세요. 파이썬 자체 도움말은 ```help(list.remove)```와 같이 사용하시면 됩니다."
   ]
  },
  {
   "cell_type": "markdown",
   "metadata": {},
   "source": [
    "### 중첩 리스트 (Nested List)"
   ]
  },
  {
   "cell_type": "markdown",
   "metadata": {},
   "source": [
    "리스트 안에 리스트를 넣을 수도 있습니다."
   ]
  },
  {
   "cell_type": "code",
   "execution_count": 120,
   "metadata": {},
   "outputs": [],
   "source": [
    "my_list = [[\"Hello\", 1, 2], 3, 4, [5, \"Apple\"]]"
   ]
  },
  {
   "cell_type": "code",
   "execution_count": 122,
   "metadata": {},
   "outputs": [
    {
     "data": {
      "text/plain": [
       "(['Hello', 1, 2], list)"
      ]
     },
     "execution_count": 122,
     "metadata": {},
     "output_type": "execute_result"
    }
   ],
   "source": [
    "# 중첩 리스트의 인덱싱\n",
    "my_list[0], type(my_list[0])"
   ]
  },
  {
   "cell_type": "code",
   "execution_count": 123,
   "metadata": {},
   "outputs": [
    {
     "data": {
      "text/plain": [
       "'Hello'"
      ]
     },
     "execution_count": 123,
     "metadata": {},
     "output_type": "execute_result"
    }
   ],
   "source": [
    "# 리스트를 인덱싱한 결과가 리스트인 경우 인덱싱을 한 번 더 할 수 있어요.\n",
    "my_list[0][0]"
   ]
  },
  {
   "cell_type": "code",
   "execution_count": 2,
   "metadata": {},
   "outputs": [
    {
     "data": {
      "text/plain": [
       "[[1, 2, 3], [4, 5, 6], [7, 8, 9]]"
      ]
     },
     "execution_count": 2,
     "metadata": {},
     "output_type": "execute_result"
    }
   ],
   "source": [
    "# 세 개의 리스트를 만들어 봅시다.\n",
    "l0 = [1,2,3]\n",
    "l1 = [4,5,6]\n",
    "l2 = [7,8,9]\n",
    "# 리스트의 리스트를 만들어 봅시다.\n",
    "matrix = [l0, l1, l2]\n",
    "matrix"
   ]
  },
  {
   "cell_type": "code",
   "execution_count": 125,
   "metadata": {},
   "outputs": [
    {
     "data": {
      "text/plain": [
       "[1, 2, 3]"
      ]
     },
     "execution_count": 125,
     "metadata": {},
     "output_type": "execute_result"
    }
   ],
   "source": [
    "matrix[0]"
   ]
  },
  {
   "cell_type": "code",
   "execution_count": 126,
   "metadata": {},
   "outputs": [
    {
     "data": {
      "text/plain": [
       "3"
      ]
     },
     "execution_count": 126,
     "metadata": {},
     "output_type": "execute_result"
    }
   ],
   "source": [
    "matrix[0][2]"
   ]
  },
  {
   "cell_type": "markdown",
   "metadata": {},
   "source": [
    "가변 컨테이너에 가변 객체를 넣을 때는 주의해야 합니다."
   ]
  },
  {
   "cell_type": "code",
   "execution_count": 4,
   "metadata": {},
   "outputs": [
    {
     "data": {
      "text/plain": [
       "(2040721851776, 2040721801280)"
      ]
     },
     "execution_count": 4,
     "metadata": {},
     "output_type": "execute_result"
    }
   ],
   "source": [
    "my_list = [\"Hello\", 2, 3, 4, 5]\n",
    "\n",
    "# copy() 메써드를 이용해서 내용이 동일한 리스트 객체를 새로 만들어줍니다.\n",
    "new_list = my_list.copy()\n",
    "# 리스트 자체는 새로 만들어졌어요\n",
    "id(my_list), id(new_list)"
   ]
  },
  {
   "cell_type": "code",
   "execution_count": 5,
   "metadata": {},
   "outputs": [
    {
     "data": {
      "text/plain": [
       "(2040721852400, 2040721852400)"
      ]
     },
     "execution_count": 5,
     "metadata": {},
     "output_type": "execute_result"
    }
   ],
   "source": [
    "# 그러나 원소들은?\n",
    "id(my_list[0]), id(new_list[0]) #서로 다른 리스트이나 my_list의 원소를 저장한 메모리를 재사용함"
   ]
  },
  {
   "cell_type": "code",
   "execution_count": 6,
   "metadata": {},
   "outputs": [
    {
     "data": {
      "text/plain": [
       "('New Hello', 'Hello')"
      ]
     },
     "execution_count": 6,
     "metadata": {},
     "output_type": "execute_result"
    }
   ],
   "source": [
    "# 불변 객체를 바꿔줄 경우\n",
    "my_list[0] = \"New Hello\"\n",
    "\n",
    "my_list[0], new_list[0]"
   ]
  },
  {
   "cell_type": "code",
   "execution_count": 8,
   "metadata": {},
   "outputs": [
    {
     "data": {
      "text/plain": [
       "(['Hello', [1, 2, 3]], ['Hello', [1, 2, 3]])"
      ]
     },
     "execution_count": 8,
     "metadata": {},
     "output_type": "execute_result"
    }
   ],
   "source": [
    "# 리스트 안에 가변 객체를 넣었습니다.\n",
    "my_list = [\"Hello\", [1,2,3]]\n",
    "\n",
    "# 동일하지만 새로운 리스트 객체를 만들어줍니다.\n",
    "new_list = my_list.copy()\n",
    "\n",
    "id(new_list), id(my_list)\n",
    "my_list, new_list"
   ]
  },
  {
   "cell_type": "code",
   "execution_count": 9,
   "metadata": {},
   "outputs": [
    {
     "data": {
      "text/plain": [
       "(['Hello', [1024, 2, 3]], ['Hello', [1024, 2, 3]])"
      ]
     },
     "execution_count": 9,
     "metadata": {},
     "output_type": "execute_result"
    }
   ],
   "source": [
    "# 새로운 리스트의 아이템만 수정하려고 시도\n",
    "new_list[1][0] = 1024\n",
    "# my_list[1][0] = 1024\n",
    "\n",
    "# 그러나?\n",
    "my_list, new_list # new_list 안에 있는 중첩 리스트의 원소를 수정했는데 my_list 의 원소도 같이 바뀌었다."
   ]
  },
  {
   "cell_type": "markdown",
   "metadata": {},
   "source": [
    "이런 일이 발생하는 원인은 리스트가 가지고 있는 아이템들이 객체 자체가 아니라 객체의 이름표 뿐이기 때문입니다.  \n",
    "copy 모듈의 deepcopy()를 이용하면 리스트에 들어있는 객체들을 통째로 복사해서 이런 현상을 방지할 수도 있는데 이 개념은 기초 문법 연습을 조금 더 한 후에 다시 공부하도록 하겠습니다.  "
   ]
  },
  {
   "cell_type": "markdown",
   "metadata": {},
   "source": [
    "### 리스트와 for 루프"
   ]
  },
  {
   "cell_type": "code",
   "execution_count": 10,
   "metadata": {},
   "outputs": [
    {
     "name": "stdout",
     "output_type": "stream",
     "text": [
      "Hello\n",
      "2\n",
      "3\n",
      "4\n",
      "5\n"
     ]
    }
   ],
   "source": [
    "my_list = [\"Hello\", 2, 3, 4, 5]\n",
    "\n",
    "# for문과 리스트\n",
    "for i in my_list :\n",
    "    print(i)"
   ]
  }
 ],
 "metadata": {
  "interpreter": {
   "hash": "d187a48a8a4b28f37103ceb7e85bceb2b63d70db7314890fe18e7e16ec425e3f"
  },
  "kernelspec": {
   "display_name": "Python 3.9.7 64-bit ('base': conda)",
   "language": "python",
   "name": "python3"
  },
  "language_info": {
   "codemirror_mode": {
    "name": "ipython",
    "version": 3
   },
   "file_extension": ".py",
   "mimetype": "text/x-python",
   "name": "python",
   "nbconvert_exporter": "python",
   "pygments_lexer": "ipython3",
   "version": "3.12.2"
  },
  "orig_nbformat": 4
 },
 "nbformat": 4,
 "nbformat_minor": 2
}
